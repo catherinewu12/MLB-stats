{
 "cells": [
  {
   "cell_type": "code",
   "execution_count": 79,
   "metadata": {},
   "outputs": [
    {
     "name": "stdout",
     "output_type": "stream",
     "text": [
      "[['1', 'Mookie Betts', 'BOS', '520', '129', '180', '47', '5', '32', '80', '30', '6', '81', '91', '.346', '.438', '.640', '1.078'], ['2', 'J.D. Martinez', 'BOS', '569', '111', '188', '37', '2', '43', '130', '6', '1', '69', '146', '.330', '.402', '.629', '1.031'], ['3', 'Christian Yelich', 'MIL', '574', '118', '187', '34', '7', '36', '110', '22', '4', '68', '135', '.326', '.402', '.598', '1.000'], ['4', 'Jose Altuve', 'HOU', '534', '84', '169', '29', '2', '13', '61', '17', '4', '55', '79', '.316', '.386', '.451', '.837'], ['5', 'Mike Trout', 'LAA', '471', '101', '147', '24', '4', '39', '79', '24', '2', '122', '124', '.312', '.460', '.628', '1.088'], ['6', 'Scooter Gennett', 'CIN', '584', '86', '181', '30', '3', '23', '92', '4', '2', '42', '125', '.310', '.357', '.490', '.847'], ['7', 'Freddie Freeman', 'ATL', '618', '94', '191', '44', '4', '23', '98', '10', '3', '76', '132', '.309', '.388', '.505', '.892'], ['8', 'Michael Brantley', 'CLE', '570', '89', '176', '36', '2', '17', '76', '12', '3', '48', '60', '.309', '.364', '.468', '.832'], ['9', 'Anthony Rendon', 'WSH', '529', '88', '163', '44', '2', '24', '92', '2', '1', '55', '82', '.308', '.374', '.535', '.909'], ['10', 'Lorenzo Cain', 'MIL', '539', '90', '166', '25', '2', '10', '38', '30', '7', '71', '94', '.308', '.395', '.417', '.813'], ['RK', 'PLAYER', 'TEAM', 'AB', 'R', 'H', '2B', '3B', 'HR', 'RBI', 'SB', 'CS', 'BB', 'SO', 'AVG', 'OBP', 'SLG', 'OPS'], ['11', 'Ben Zobrist', 'CHC', '455', '67', '139', '28', '3', '9', '58', '3', '4', '55', '60', '.305', '.378', '.440', '.817'], ['12', 'Jose Martinez', 'STL', '534', '64', '163', '30', '0', '17', '83', '0', '3', '49', '104', '.305', '.364', '.457', '.821'], ['13', 'Whit Merrifield', 'KC', '632', '88', '192', '43', '3', '12', '60', '45', '10', '61', '114', '.304', '.367', '.438', '.806'], ['14', 'Jean Segura', 'SEA', '586', '91', '178', '29', '3', '10', '63', '20', '11', '32', '69', '.304', '.341', '.415', '.755'], ['15', 'Joey Wendle', 'TB', '487', '62', '146', '33', '6', '7', '61', '16', '4', '37', '96', '.300', '.354', '.435', '.789'], ['16', 'Corey Dickerson', 'PIT', '504', '65', '151', '35', '7', '13', '55', '8', '3', '21', '80', '.300', '.330', '.474', '.804'], ['17', 'Nicholas Castellanos', 'DET', '620', '88', '185', '46', '5', '23', '89', '2', '1', '49', '151', '.298', '.354', '.500', '.854'], ['18', 'Manny Machado', 'BAL/LAD', '632', '84', '188', '35', '3', '37', '107', '14', '2', '70', '104', '.297', '.367', '.538', '.905'], ['19', 'Nick Markakis', 'ATL', '623', '78', '185', '43', '2', '14', '93', '1', '1', '72', '80', '.297', '.366', '.440', '.806'], ['20', 'Miguel Andujar', 'NYY', '573', '83', '170', '47', '2', '27', '92', '2', '1', '25', '97', '.297', '.328', '.527', '.855'], ['RK', 'PLAYER', 'TEAM', 'AB', 'R', 'H', '2B', '3B', 'HR', 'RBI', 'SB', 'CS', 'BB', 'SO', 'AVG', 'OBP', 'SLG', 'OPS'], ['21', 'Nolan Arenado', 'COL', '590', '104', '175', '38', '2', '38', '110', '2', '2', '73', '122', '.297', '.374', '.561', '.935'], ['22', 'Mallex Smith', 'TB', '480', '65', '142', '27', '10', '2', '40', '40', '12', '47', '98', '.296', '.367', '.406', '.773'], ['23', 'Matt Duffy', 'TB', '503', '59', '148', '22', '1', '4', '44', '12', '6', '47', '93', '.294', '.361', '.366', '.727'], ['24', 'David Peralta', 'ARI', '560', '75', '164', '25', '5', '30', '87', '4', '0', '48', '124', '.293', '.352', '.516', '.868'], ['25', 'Andrelton Simmons', 'LAA', '554', '68', '162', '26', '5', '11', '75', '10', '2', '35', '44', '.292', '.337', '.417', '.754'], ['26', 'Trevor Story', 'COL', '598', '88', '174', '42', '6', '37', '108', '27', '6', '47', '168', '.291', '.348', '.567', '.914'], ['27', 'Charlie Blackmon', 'COL', '626', '119', '182', '31', '7', '29', '70', '12', '4', '59', '134', '.291', '.358', '.502', '.860'], ['28', 'Yuli Gurriel', 'HOU', '537', '70', '156', '33', '1', '13', '85', '5', '1', '23', '63', '.291', '.323', '.428', '.751'], ['29', 'Javier Baez', 'CHC', '606', '101', '176', '40', '9', '34', '111', '21', '9', '29', '167', '.290', '.326', '.554', '.881'], ['30', 'Andrew Benintendi', 'BOS', '579', '103', '168', '41', '6', '16', '87', '21', '3', '71', '106', '.290', '.366', '.465', '.830'], ['RK', 'PLAYER', 'TEAM', 'AB', 'R', 'H', '2B', '3B', 'HR', 'RBI', 'SB', 'CS', 'BB', 'SO', 'AVG', 'OBP', 'SLG', 'OPS'], ['31', 'Paul Goldschmidt', 'ARI', '593', '95', '172', '35', '5', '33', '83', '7', '4', '90', '173', '.290', '.389', '.533', '.922'], ['32', 'Matt Kemp', 'LAD', '462', '62', '134', '25', '0', '21', '85', '0', '0', '36', '115', '.290', '.338', '.481', '.818'], ['33', 'Xander Bogaerts', 'BOS', '513', '72', '148', '45', '3', '23', '103', '8', '2', '55', '102', '.288', '.360', '.522', '.883'], ['34', 'Eddie Rosario', 'MIN', '559', '87', '161', '31', '2', '24', '77', '8', '2', '30', '104', '.288', '.323', '.479', '.803'], ['35', 'Jose Peraza', 'CIN', '632', '85', '182', '31', '4', '14', '58', '23', '6', '29', '75', '.288', '.326', '.416', '.742'], ['36', 'Alex Bregman', 'HOU', '594', '105', '170', '51', '1', '31', '103', '10', '4', '96', '85', '.286', '.394', '.532', '.926'], ['37', 'Mitch Haniger', 'SEA', '596', '90', '170', '38', '4', '26', '93', '8', '2', '70', '148', '.285', '.366', '.493', '.859'], ['38', 'Joey Votto', 'CIN', '503', '67', '143', '28', '2', '12', '67', '2', '0', '108', '101', '.284', '.417', '.419', '.837'], ['39', 'Eugenio Suarez', 'CIN', '527', '79', '149', '22', '2', '34', '104', '1', '1', '64', '142', '.283', '.366', '.526', '.892'], ['40', 'Anthony Rizzo', 'CHC', '566', '74', '160', '29', '1', '25', '101', '6', '4', '70', '80', '.283', '.376', '.470', '.846']]\n"
     ]
    },
    {
     "ename": "AttributeError",
     "evalue": "'str' object has no attribute 'get_text'",
     "output_type": "error",
     "traceback": [
      "\u001b[1;31m---------------------------------------------------------------------------\u001b[0m",
      "\u001b[1;31mAttributeError\u001b[0m                            Traceback (most recent call last)",
      "\u001b[1;32m<ipython-input-79-d01d6df5c094>\u001b[0m in \u001b[0;36m<module>\u001b[1;34m\u001b[0m\n\u001b[0;32m     50\u001b[0m \u001b[1;33m\u001b[0m\u001b[0m\n\u001b[0;32m     51\u001b[0m \u001b[1;32mfor\u001b[0m \u001b[0mi\u001b[0m \u001b[1;32min\u001b[0m \u001b[0mrange\u001b[0m\u001b[1;33m(\u001b[0m\u001b[0mlen\u001b[0m\u001b[1;33m(\u001b[0m\u001b[0mname\u001b[0m\u001b[1;33m)\u001b[0m\u001b[1;33m)\u001b[0m\u001b[1;33m:\u001b[0m\u001b[1;33m\u001b[0m\u001b[1;33m\u001b[0m\u001b[0m\n\u001b[1;32m---> 52\u001b[1;33m     \u001b[0mtext\u001b[0m \u001b[1;33m=\u001b[0m \u001b[0mname\u001b[0m\u001b[1;33m[\u001b[0m\u001b[0mi\u001b[0m\u001b[1;33m]\u001b[0m\u001b[1;33m.\u001b[0m\u001b[0mget_text\u001b[0m\u001b[1;33m(\u001b[0m\u001b[1;33m)\u001b[0m\u001b[1;33m\u001b[0m\u001b[1;33m\u001b[0m\u001b[0m\n\u001b[0m\u001b[0;32m     53\u001b[0m     \u001b[0mtext\u001b[0m \u001b[1;33m=\u001b[0m \u001b[0mtext\u001b[0m\u001b[1;33m.\u001b[0m\u001b[0mreplace\u001b[0m\u001b[1;33m(\u001b[0m\u001b[1;34m'RKPLAYERTEAMAB'\u001b[0m\u001b[1;33m,\u001b[0m \u001b[1;34m''\u001b[0m\u001b[1;33m)\u001b[0m\u001b[1;33m\u001b[0m\u001b[1;33m\u001b[0m\u001b[0m\n\u001b[0;32m     54\u001b[0m     \u001b[1;31m#print(text)\u001b[0m\u001b[1;33m\u001b[0m\u001b[1;33m\u001b[0m\u001b[1;33m\u001b[0m\u001b[0m\n",
      "\u001b[1;31mAttributeError\u001b[0m: 'str' object has no attribute 'get_text'"
     ]
    }
   ],
   "source": [
    "import bs4\n",
    "from urllib.request import urlopen as uReq\n",
    "from bs4 import BeautifulSoup \n",
    "\n",
    "my_url = \"http://www.espn.com/mlb/stats/batting/_/year/2018/seasontype/2\"\n",
    "\n",
    "uClient = uReq(my_url)\n",
    "\n",
    "page_html = uClient.read()\n",
    "uClient.close()\n",
    "\n",
    "page_soup = BeautifulSoup(page_html, \"html.parser\")\n",
    "\n",
    "containers = page_soup.findAll('div',{'span-6'})\n",
    "\n",
    "myBin = containers[2]\n",
    "\n",
    "\n",
    "tableStats = myBin.findAll('tr')\n",
    "tableStats = tableStats[2:]\n",
    "\n",
    "stats_raw = []\n",
    "stats = []\n",
    "text1 = []\n",
    "\n",
    "playerData = {}\n",
    "\n",
    "#getting names from html of ESPN website. Raw HTML code\n",
    "for i in range(len(tableStats)):\n",
    "    stats_raw.append(tableStats[i].findAll('td'))\n",
    "\n",
    "    \n",
    "#stripping tableStats (list of lists) and outputting a clean list of lists. Each list is composed of the player's rank,\n",
    "#name and stats from 2018 season\n",
    "for i in range(len(stats_raw)):\n",
    "    text1 = []\n",
    "    \n",
    "    #each player's individual information\n",
    "    for j in range(18):\n",
    "        text = stats_raw[i][j].get_text()\n",
    "        text1.append(text)\n",
    "    \n",
    "    #add the player to the list of lists\n",
    "    stats.append(text1)\n",
    "\n",
    "\n",
    "#cast data to proper data types\n",
    "for i in range(len(stats)):\n",
    "    \n",
    "    team.append(stats[i][2])\n",
    "    \n",
    "    \n",
    "\n",
    "#STRIP HER DOWN\n",
    "\n",
    "for i in range(len(name)):\n",
    "    text = name[i].get_text()\n",
    "    text = text.replace('RKPLAYERTEAMAB', '')\n",
    "    #print(text)\n",
    "\n",
    "#lines = (line.strip() for line in text.splitlines())\n",
    "#chunks = (phrase.strip() for line in lines for phrase in line.split(\"AB\"))\n",
    "#text = '\\n'.join(chunk for chunk in chunks if chunk)\n",
    "\n",
    "    \n",
    "    #add to dictionary\n",
    "    #playerData[text] = \"\"\n",
    "\n",
    "\n",
    "\n",
    "\n",
    "\n"
   ]
  },
  {
   "cell_type": "code",
   "execution_count": null,
   "metadata": {},
   "outputs": [],
   "source": []
  },
  {
   "cell_type": "code",
   "execution_count": null,
   "metadata": {},
   "outputs": [],
   "source": []
  }
 ],
 "metadata": {
  "kernelspec": {
   "display_name": "Python 3",
   "language": "python",
   "name": "python3"
  },
  "language_info": {
   "codemirror_mode": {
    "name": "ipython",
    "version": 3
   },
   "file_extension": ".py",
   "mimetype": "text/x-python",
   "name": "python",
   "nbconvert_exporter": "python",
   "pygments_lexer": "ipython3",
   "version": "3.6.7"
  }
 },
 "nbformat": 4,
 "nbformat_minor": 2
}
